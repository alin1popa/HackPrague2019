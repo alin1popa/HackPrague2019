{
 "cells": [
  {
   "cell_type": "code",
   "execution_count": 43,
   "metadata": {},
   "outputs": [],
   "source": [
    "import csv\n",
    "import math"
   ]
  },
  {
   "cell_type": "code",
   "execution_count": 54,
   "metadata": {},
   "outputs": [],
   "source": [
    "# constants\n",
    "\n",
    "GRID_RESOLUTION = 10**4 # higher res means smaller cells\n",
    "\n",
    "MIN_LAT_IN_DATASET = 16.4078522359116\n",
    "MIN_LNG_IN_DATASET = 49.112730179544\n",
    "GRID_CORNER_PADDING = 100\n",
    "CORNER_LAT_POS = math.floor(MIN_LAT_IN_DATASET * GRID_RESOLUTION) - GRID_CORNER_PADDING\n",
    "CORNER_LNG_POS = math.floor(MIN_LNG_IN_DATASET * GRID_RESOLUTION) - GRID_CORNER_PADDING\n",
    "GRID_SIZE = 5000"
   ]
  },
  {
   "cell_type": "code",
   "execution_count": 55,
   "metadata": {},
   "outputs": [],
   "source": [
    "# read planned routes from file\n",
    "\n",
    "planned_routes = []\n",
    "with open('data/brno_cyclo_route_general_plan.csv', newline='') as csvfile:\n",
    "    csvreader = csv.DictReader(csvfile, delimiter=',')\n",
    "    for row in csvreader:\n",
    "        route_str = row['wkt']\n",
    "        route_str = route_str.replace(\"LINESTRING (\", \"\").replace(\")\", \"\")\n",
    "        \n",
    "        points = route_str.split(',')\n",
    "        route = []\n",
    "        for point in points:\n",
    "            coords = point.split(' ')\n",
    "            lat = float(coords[0])\n",
    "            lng = float(coords[1])\n",
    "            route.append({\"lat\":lat, \"lng\":lng})\n",
    "            \n",
    "        planned_routes.append(route)\n",
    "        \n",
    "planned_points = [points for route in planned_routes for points in route]\n",
    "# lats = list(map(lambda p: p['lat'], planned_points))\n",
    "# lngs = list(map(lambda p: p['lng'], planned_points))"
   ]
  },
  {
   "cell_type": "code",
   "execution_count": 71,
   "metadata": {},
   "outputs": [
    {
     "name": "stdout",
     "output_type": "stream",
     "text": [
      "35404\n",
      "43088\n"
     ]
    }
   ],
   "source": [
    "# grid matrix definition\n",
    "\n",
    "class Grid:\n",
    "    def __init__(self):\n",
    "        self.grid = [[0 for _ in range(GRID_SIZE)] for _ in range(GRID_SIZE)]\n",
    "    \n",
    "    @staticmethod\n",
    "    def latToCellIndex(lat):\n",
    "        return math.floor(lat*GRID_RESOLUTION) - CORNER_LAT_POS\n",
    "    \n",
    "    @staticmethod\n",
    "    def lngToCellIndex(lng):\n",
    "        return math.floor(lng*GRID_RESOLUTION) - CORNER_LNG_POS\n",
    "    \n",
    "    @staticmethod\n",
    "    def cellIndexToLat(cell):\n",
    "        return (cell + CORNER_LAT_POS) / GRID_RESOLUTION\n",
    "    \n",
    "    @staticmethod\n",
    "    def cellIndexToLng(cell):\n",
    "        return (cell + CORNER_LNG_POS) / GRID_RESOLUTION\n",
    "    \n",
    "    def pointToCell(self, point):\n",
    "        lat = point['lat']\n",
    "        lng = point['lng']\n",
    "        return self.latToCellIndex(lat), self.lngToCellIndex(lng)\n",
    "    \n",
    "    def addAllPoints(self, points):\n",
    "        for point in points:\n",
    "            x,y = self.pointToCell(point)\n",
    "            self.grid[x][y] = 1\n",
    "        count = 0\n",
    "        for x in self.grid:\n",
    "            for y in x:\n",
    "                if y == 1:\n",
    "                    count = count + 1\n",
    "        print(count)\n",
    "        print(len(points))\n",
    "    \n",
    "g = Grid()\n",
    "g.addAllPoints(planned_points)"
   ]
  },
  {
   "cell_type": "code",
   "execution_count": null,
   "metadata": {},
   "outputs": [],
   "source": []
  }
 ],
 "metadata": {
  "kernelspec": {
   "display_name": "Python 3",
   "language": "python",
   "name": "python3"
  },
  "language_info": {
   "codemirror_mode": {
    "name": "ipython",
    "version": 3
   },
   "file_extension": ".py",
   "mimetype": "text/x-python",
   "name": "python",
   "nbconvert_exporter": "python",
   "pygments_lexer": "ipython3",
   "version": "3.6.8"
  }
 },
 "nbformat": 4,
 "nbformat_minor": 2
}
