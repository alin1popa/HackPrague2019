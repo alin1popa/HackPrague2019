{
 "cells": [
  {
   "cell_type": "code",
   "execution_count": 9,
   "metadata": {},
   "outputs": [],
   "source": [
    "import csv\n"
   ]
  },
  {
   "cell_type": "code",
   "execution_count": 24,
   "metadata": {},
   "outputs": [],
   "source": [
    "# read planned routes from file\n",
    "\n",
    "planned_routes = []\n",
    "with open('data/brno_cyclo_route_general_plan.csv', newline='') as csvfile:\n",
    "    csvreader = csv.DictReader(csvfile, delimiter=',')\n",
    "    for row in csvreader:\n",
    "        route_str = row['wkt']\n",
    "        route_str = route_str.replace(\"LINESTRING (\", \"\").replace(\")\", \"\")\n",
    "        \n",
    "        points = route_str.split(',')\n",
    "        route = []\n",
    "        for point in points:\n",
    "            coords = point.split(' ')\n",
    "            lat = float(coords[0])\n",
    "            lng = float(coords[1])\n",
    "            route.append({\"lat\":lat, \"lng\":lng})\n",
    "            \n",
    "        planned_routes.append(route)\n",
    "        "
   ]
  },
  {
   "cell_type": "code",
   "execution_count": null,
   "metadata": {},
   "outputs": [],
   "source": [
    "# "
   ]
  }
 ],
 "metadata": {
  "kernelspec": {
   "display_name": "Python 3",
   "language": "python",
   "name": "python3"
  },
  "language_info": {
   "codemirror_mode": {
    "name": "ipython",
    "version": 3
   },
   "file_extension": ".py",
   "mimetype": "text/x-python",
   "name": "python",
   "nbconvert_exporter": "python",
   "pygments_lexer": "ipython3",
   "version": "3.6.8"
  }
 },
 "nbformat": 4,
 "nbformat_minor": 2
}
